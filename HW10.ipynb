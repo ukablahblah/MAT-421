{
  "nbformat": 4,
  "nbformat_minor": 0,
  "metadata": {
    "colab": {
      "provenance": [],
      "authorship_tag": "ABX9TyOCZpwtgYrvRgOod07Ifg3p",
      "include_colab_link": true
    },
    "kernelspec": {
      "name": "python3",
      "display_name": "Python 3"
    },
    "language_info": {
      "name": "python"
    }
  },
  "cells": [
    {
      "cell_type": "markdown",
      "metadata": {
        "id": "view-in-github",
        "colab_type": "text"
      },
      "source": [
        "<a href=\"https://colab.research.google.com/github/ukablahblah/MAT-421/blob/main/HW10.ipynb\" target=\"_parent\"><img src=\"https://colab.research.google.com/assets/colab-badge.svg\" alt=\"Open In Colab\"/></a>"
      ]
    },
    {
      "cell_type": "code",
      "execution_count": 3,
      "metadata": {
        "colab": {
          "base_uri": "https://localhost:8080/"
        },
        "id": "Q23eWqFfzNTi",
        "outputId": "769f53c9-f96e-4216-800a-c4516bba76df"
      },
      "outputs": [
        {
          "output_type": "stream",
          "name": "stdout",
          "text": [
            "General Solution: Eq(y(x), C1*exp(-2*x))\n",
            "Solution with Initial Condition y(0) = 1: Eq(y(x), C1*exp(-2*x))\n"
          ]
        }
      ],
      "source": [
        "import numpy as np\n",
        "import matplotlib.pyplot as plt\n",
        "from sympy import symbols, Function, dsolve, Eq, Derivative, exp\n",
        "\n",
        "# Section 1: Initial Value Problem (IVP)\n",
        "\"\"\"\n",
        "## 1. Initial Value Problem (IVP)\n",
        "An Initial Value Problem (IVP) for an Ordinary Differential Equation (ODE) consists of:\n",
        "- A differential equation \\( y'(x) = f(x, y) \\)\n",
        "- An initial condition \\( y(x_0) = y_0 \\)\n",
        "\n",
        "### Example:\n",
        "Solve the first-order ODE \\( \\frac{dy}{dx} = -2y \\) with the initial condition \\( y(0) = 1 \\).\n",
        "\"\"\"\n",
        "\n",
        "x, C1 = symbols('x C1')\n",
        "y = Function('y')(x)\n",
        "\n",
        "# Define the differential equation\n",
        "de = Eq(Derivative(y, x), -2*y)\n",
        "\n",
        "# Solve the ODE\n",
        "solution = dsolve(de, y)\n",
        "\n",
        "# Apply the initial condition y(0) = 1\n",
        "C1_value = solution.subs(x, 0).rhs.subs(y, 1)\n",
        "solution_with_ic = solution.subs(C1, C1_value)\n",
        "\n",
        "print(\"General Solution:\", solution)\n",
        "print(\"Solution with Initial Condition y(0) = 1:\", solution_with_ic)\n",
        "\n"
      ]
    },
    {
      "cell_type": "code",
      "source": [
        "# Section 2: Reduction of Order\n",
        "\"\"\"\n",
        "## 2. Reduction of Order Method\n",
        "Reduction of Order is used to find a second linearly independent solution when one solution is known.\n",
        "\n",
        "Given a second-order linear ODE:\n",
        "\\[\n",
        " y'' + p(x) y' + q(x) y = 0\n",
        "\\]\n",
        "and a known solution \\( y_1(x) \\), we assume a second solution of the form \\( y_2(x) = v(x) y_1(x) \\) and solve for \\( v(x) \\).\n",
        "\n",
        "### Example:\n",
        "Find a second solution for \\( y'' - y = 0 \\) given that \\( y_1 = e^x \\).\n",
        "\"\"\"\n",
        "\n",
        "v = Function('v')(x)\n",
        "y1 = exp(x)  # Corrected from np.exp(x) to sympy.exp(x)\n",
        "\n",
        "# Assume y2 = v * y1 and compute derivatives\n",
        "y2 = v * y1\n",
        "y2_prime = v.diff(x) * y1 + v * y1\n",
        "y2_double_prime = v.diff(x, x) * y1 + 2 * v.diff(x) * y1 + v * y1\n",
        "\n",
        "# Substitute into ODE\n",
        "de_reduction = Eq(y2_double_prime - y2, 0)\n",
        "\n",
        "print(\"Reduction of Order ODE:\", de_reduction)\n",
        "\n"
      ],
      "metadata": {
        "colab": {
          "base_uri": "https://localhost:8080/"
        },
        "id": "jeMwm-Qz0iPO",
        "outputId": "27f4b2a3-42a8-4b02-e3a0-4163da61cc7b"
      },
      "execution_count": 4,
      "outputs": [
        {
          "output_type": "stream",
          "name": "stdout",
          "text": [
            "Reduction of Order ODE: Eq(2*exp(x)*Derivative(v(x), x) + exp(x)*Derivative(v(x), (x, 2)), 0)\n"
          ]
        }
      ]
    },
    {
      "cell_type": "code",
      "source": [
        "# Section 3: Euler's Method\n",
        "\"\"\"\n",
        "## 3. Euler's Method\n",
        "Euler's method is a numerical technique for solving ODEs of the form:\n",
        "\\[\n",
        " y_{n+1} = y_n + h f(x_n, y_n)\n",
        "\\]\n",
        "where \\( h \\) is the step size.\n",
        "\n",
        "### Example:\n",
        "Solve \\( \\frac{dy}{dx} = -2y \\) with \\( y(0) = 1 \\) using Euler's method.\n",
        "\"\"\"\n",
        "\n",
        "def euler_method(f, x0, y0, h, n):\n",
        "    x_values = [x0]\n",
        "    y_values = [y0]\n",
        "\n",
        "    for _ in range(n):\n",
        "        y_next = y_values[-1] + h * f(x_values[-1], y_values[-1])\n",
        "        x_next = x_values[-1] + h\n",
        "        x_values.append(x_next)\n",
        "        y_values.append(y_next)\n",
        "\n",
        "    return np.array(x_values), np.array(y_values)\n",
        "\n",
        "# Define ODE\n",
        "def f(x, y):\n",
        "    return -2 * y\n",
        "\n",
        "# Parameters\n",
        "x0, y0 = 0, 1  # Initial condition\n",
        "h = 0.1  # Step size\n",
        "n = 20  # Number of steps\n",
        "\n",
        "# Solve using Euler's method\n",
        "x_vals, y_vals = euler_method(f, x0, y0, h, n)\n",
        "\n",
        "# Plot results\n",
        "plt.figure(figsize=(8,5))\n",
        "plt.plot(x_vals, y_vals, 'bo-', label=\"Euler's Method\")\n",
        "plt.xlabel('x')\n",
        "plt.ylabel('y')\n",
        "plt.title(\"Euler's Method Approximation\")\n",
        "plt.legend()\n",
        "plt.show()\n"
      ],
      "metadata": {
        "colab": {
          "base_uri": "https://localhost:8080/",
          "height": 487
        },
        "id": "xP7LGYmjzPdM",
        "outputId": "8029574a-7230-4247-eb36-7f0922807211"
      },
      "execution_count": 5,
      "outputs": [
        {
          "output_type": "display_data",
          "data": {
            "text/plain": [
              "<Figure size 800x500 with 1 Axes>"
            ],
            "image/png": "[encoded data removed]"
          },
          "metadata": {}
        }
      ]
    },
    {
      "cell_type": "code",
      "source": [],
      "metadata": {
        "id": "-9S0Y3nH0noa"
      },
      "execution_count": null,
      "outputs": []
    }
  ]
}