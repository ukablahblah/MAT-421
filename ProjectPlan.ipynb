{
  "nbformat": 4,
  "nbformat_minor": 0,
  "metadata": {
    "colab": {
      "provenance": [],
      "authorship_tag": "ABX9TyNDNV1gtmLkk2H6T/4tne/Y",
      "include_colab_link": true
    },
    "kernelspec": {
      "name": "python3",
      "display_name": "Python 3"
    },
    "language_info": {
      "name": "python"
    }
  },
  "cells": [
    {
      "cell_type": "markdown",
      "metadata": {
        "id": "view-in-github",
        "colab_type": "text"
      },
      "source": [
        "<a href=\"https://colab.research.google.com/github/ukablahblah/MAT-421/blob/main/ProjectPlan.ipynb\" target=\"_parent\"><img src=\"https://colab.research.google.com/assets/colab-badge.svg\" alt=\"Open In Colab\"/></a>"
      ]
    },
    {
      "cell_type": "markdown",
      "source": [
        "# *Project Plan: Multi-Agent LLM Portfolio Rebalancing and Risk-Aware Investment Advisor*\n",
        "\n",
        "## *Research Objective*  \n",
        "The main goal of this project is to build a system that uses Large Language Models (LLMs) to act like a financial advisory team. This system will have different agents (like digital assistants), each focusing on one area: economic news, public sentiment, technical stock analysis, risk management, and portfolio adjustment. The aim is to help make better and more transparent investment decisions for long-term portfolio management.\n",
        "\n",
        "## *Literature Review*  \n",
        "Most research in financial AI focuses on using rules for trading or analyzing public sentiment in a basic way. Some recent studies have used LLMs to understand financial text, but there are not many systems that combine different agents working together to handle both financial logic and language understanding. This project will fill that gap by designing a system that can make well-rounded investment decisions using both data and language reasoning.\n",
        "\n",
        "## *Hypothesis / Research Questions*\n",
        "- Can our system give better investment decisions than standard methods like equal-weighted portfolios?  \n",
        "- Does using risk models make the LLM system more reliable and understandable?  \n",
        "- How much do LLM-generated insights help in improving performance and reducing risks?\n",
        "\n",
        "## *Methodology*  \n",
        "We will create different agents in Python:\n",
        "\n",
        "1. *Macro Analyst Agent*: Reads and explains economic news using GPT-4.  \n",
        "2. *Asset Analyst Agent*: Analyzes stock trends using tools like SMA, RSI, and MACD.  \n",
        "3. *Sentiment Agent*: Checks Reddit and news articles to understand public mood using Hugging Face models.  \n",
        "4. *Risk Agent*: Calculates potential risks using Monte Carlo simulations and Value-at-Risk.  \n",
        "5. *Portfolio Manager Agent*: Adjusts investments using a Python library called PyPortfolioOpt based on all agent inputs.  \n",
        "\n",
        "Each agent will be built using modular Python code so it is easy to update or improve.\n",
        "\n",
        "## *Data Collection*  \n",
        "We will use:\n",
        "- Stock prices and volumes from Yahoo Finance using yfinance.  \n",
        "- News articles from NewsAPI.  \n",
        "- Reddit posts using Reddit’s public API.  \n",
        "\n",
        "These will be cleaned and processed using Python tools like pandas, requests, and beautifulsoup4.\n",
        "\n",
        "## *Analysis Plan*  \n",
        "We will test the system using historical data from the top 10 NASDAQ stocks for the past 2 years.  \n",
        "We will compare the results with standard portfolio strategies.  \n",
        "We will measure:\n",
        "- Total return  \n",
        "- Yearly risk (volatility)  \n",
        "- Sharpe Ratio (risk-adjusted return)  \n",
        "- Largest loss during the period (drawdown)  \n",
        "\n",
        "We will also check how easy it is to understand the decisions made by the agents.\n",
        "\n",
        "## *Team Roles and Responsibilities*  \n",
        "- *Vasav Srivastava*: Will work on economic and sentiment agents, connect the GPT-4 API, and write the Research Objective, Methodology, Experiment Setup, and Conclusion.  \n",
        "- *Utkarsh Bhagat*: Will build the technical analysis and risk agents, handle testing and results, and write the Literature Review, Comparison, and Data Analysis sections.  \n",
        "\n"
      ],
      "metadata": {
        "id": "k1ofmLGB5Wuc"
      }
    },
    {
      "cell_type": "code",
      "source": [],
      "metadata": {
        "id": "JwkGHX7o5LRO"
      },
      "execution_count": null,
      "outputs": []
    }
  ]
}