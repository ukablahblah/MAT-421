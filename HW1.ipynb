{
  "nbformat": 4,
  "nbformat_minor": 0,
  "metadata": {
    "colab": {
      "provenance": [],
      "authorship_tag": "ABX9TyO6osh1oi5UuBWLIxp0Kc8f",
      "include_colab_link": true
    },
    "kernelspec": {
      "name": "python3",
      "display_name": "Python 3"
    },
    "language_info": {
      "name": "python"
    }
  },
  "cells": [
    {
      "cell_type": "markdown",
      "metadata": {
        "id": "view-in-github",
        "colab_type": "text"
      },
      "source": [
        "<a href=\"https://colab.research.google.com/github/ukablahblah/MAT-421/blob/main/HW1.ipynb\" target=\"_parent\"><img src=\"https://colab.research.google.com/assets/colab-badge.svg\" alt=\"Open In Colab\"/></a>"
      ]
    },
    {
      "cell_type": "code",
      "execution_count": 4,
      "metadata": {
        "colab": {
          "base_uri": "https://localhost:8080/"
        },
        "id": "mSFv7jH4jXEe",
        "outputId": "ae30a542-b34b-4c56-e259-39afb5d35642"
      },
      "outputs": [
        {
          "output_type": "stream",
          "name": "stdout",
          "text": [
            "Base-N and Binary Demonstration:\n",
            "Decimal 42 in binary is 0b101010\n",
            "Binary 101010 in decimal is 42\n",
            "Decimal 42 in hexadecimal is 0x2a\n",
            "Hexadecimal 2A in decimal is 42\n",
            "Binary addition: 0b1010 + 0b1100 = 0b10110\n",
            "\n"
          ]
        }
      ],
      "source": [
        "# Base-N and Binary\n",
        "# -----------------\n",
        "# Base-N refers to a numeral system with a base of N. For example, binary (base-2) uses only 0 and 1,\n",
        "# while decimal (base-10) uses digits 0-9. This code shows how to convert numbers between different bases\n",
        "\n",
        "# Code to demonstrate Base-N and Binary\n",
        "print(\"Base-N and Binary Demonstration:\")\n",
        "\n",
        "# Decimal to Binary\n",
        "decimal_number = 42\n",
        "binary_representation = bin(decimal_number)\n",
        "print(f\"Decimal {decimal_number} in binary is {binary_representation}\")\n",
        "\n",
        "# Binary to Decimal\n",
        "binary_number = \"101010\"\n",
        "decimal_from_binary = int(binary_number, 2)\n",
        "print(f\"Binary {binary_number} in decimal is {decimal_from_binary}\")\n",
        "\n",
        "# Decimal to Hexadecimal\n",
        "hex_representation = hex(decimal_number)\n",
        "print(f\"Decimal {decimal_number} in hexadecimal is {hex_representation}\")\n",
        "\n",
        "# Hexadecimal to Decimal\n",
        "hex_number = \"2A\"\n",
        "decimal_from_hex = int(hex_number, 16)\n",
        "print(f\"Hexadecimal {hex_number} in decimal is {decimal_from_hex}\")\n",
        "\n",
        "# Binary Arithmetic\n",
        "binary_a = 0b1010  # Binary for 10\n",
        "binary_b = 0b1100  # Binary for 12\n",
        "binary_sum = binary_a + binary_b\n",
        "print(f\"Binary addition: {bin(binary_a)} + {bin(binary_b)} = {bin(binary_sum)}\")\n",
        "print()\n",
        "\n"
      ]
    },
    {
      "cell_type": "code",
      "source": [
        "# Floating Point Numbers\n",
        "# ----------------------\n",
        "# Floating point numbers are used to represent real numbers with a fractional part. They are stored\n",
        "# in a computer using a specific format. This code shows how floating point numbers work and their limitations.\n",
        "\n",
        "# Code to demonstrate Floating Point Numbers\n",
        "print(\"Floating Point Numbers Demonstration:\")\n",
        "\n",
        "# Example of a floating point number\n",
        "float_number = 3.14159\n",
        "print(f\"Example of a floating point number: {float_number}\")\n",
        "\n",
        "# Scientific notation\n",
        "scientific_notation = 1.23e4  # 1.23 * 10^4\n",
        "print(f\"Floating point number in scientific notation: {scientific_notation}\")\n",
        "\n",
        "# Precision of floating point numbers\n",
        "large_number = 1e16\n",
        "small_number = 1\n",
        "result = large_number + small_number\n",
        "print(f\"Adding a small number to a large number: {large_number} + {small_number} = {result}\")\n",
        "print(\"Notice how the small number is 'lost' due to precision limitations.\")\n",
        "print()\n",
        "\n"
      ],
      "metadata": {
        "colab": {
          "base_uri": "https://localhost:8080/"
        },
        "id": "IIscgZDRVu_K",
        "outputId": "e32c9d2f-e185-40fe-ecb9-cc22bc075cc5"
      },
      "execution_count": 5,
      "outputs": [
        {
          "output_type": "stream",
          "name": "stdout",
          "text": [
            "Floating Point Numbers Demonstration:\n",
            "Example of a floating point number: 3.14159\n",
            "Floating point number in scientific notation: 12300.0\n",
            "Adding a small number to a large number: 1e+16 + 1 = 1e+16\n",
            "Notice how the small number is 'lost' due to precision limitations.\n",
            "\n"
          ]
        }
      ]
    },
    {
      "cell_type": "code",
      "source": [
        "# Round-off Errors\n",
        "# ----------------\n",
        "# Round-off errors occur because floating point numbers cannot represent all real numbers exactly.\n",
        "# This code shows how round-off errors can appear in calculations.\n",
        "\n",
        "# Code to demonstrate Round-off Errors\n",
        "print(\"Round-off Errors Demonstration:\")\n",
        "\n",
        "# Example of a round-off error\n",
        "a = 0.1\n",
        "b = 0.2\n",
        "c = 0.3\n",
        "print(f\"Does 0.1 + 0.2 equal 0.3? {a + b == c}\")\n",
        "print(f\"Actual result of 0.1 + 0.2: {a + b}\")\n",
        "\n",
        "\n",
        "sum_of_tenths = sum([0.1] * 10)\n",
        "expected_sum = 1.0\n",
        "print(f\"Sum of 0.1 added 10 times: {sum_of_tenths}\")\n",
        "print(f\"Expected sum: {expected_sum}\")\n",
        "print(f\"Is the result equal to the expected sum? {sum_of_tenths == expected_sum}\")\n",
        "print()\n",
        "\n",
        "from decimal import Decimal\n",
        "\n",
        "decimal_a = Decimal(\"0.1\")\n",
        "decimal_b = Decimal(\"0.2\")\n",
        "decimal_c = Decimal(\"0.3\")\n",
        "print(f\"Using Decimal module: Does 0.1 + 0.2 equal 0.3? {decimal_a + decimal_b == decimal_c}\")\n",
        "print(f\"Actual result using Decimal module: {decimal_a + decimal_b}\")"
      ],
      "metadata": {
        "colab": {
          "base_uri": "https://localhost:8080/"
        },
        "id": "z4ZPvkMlV6Je",
        "outputId": "9469d9fc-2ace-4026-aa33-25b2be96cf2a"
      },
      "execution_count": 6,
      "outputs": [
        {
          "output_type": "stream",
          "name": "stdout",
          "text": [
            "Round-off Errors Demonstration:\n",
            "Does 0.1 + 0.2 equal 0.3? False\n",
            "Actual result of 0.1 + 0.2: 0.30000000000000004\n",
            "Sum of 0.1 added 10 times: 0.9999999999999999\n",
            "Expected sum: 1.0\n",
            "Is the result equal to the expected sum? False\n",
            "\n",
            "Using Decimal module: Does 0.1 + 0.2 equal 0.3? True\n",
            "Actual result using Decimal module: 0.3\n"
          ]
        }
      ]
    },
    {
      "cell_type": "code",
      "source": [],
      "metadata": {
        "id": "D4dAVMPUV8_y"
      },
      "execution_count": 6,
      "outputs": []
    }
  ]
}